{
 "cells": [
  {
   "cell_type": "code",
   "execution_count": 1,
   "metadata": {},
   "outputs": [
    {
     "name": "stdout",
     "output_type": "stream",
     "text": [
      "['.ipynb_checkpoints', '38bc8193f67c1cfb8b2a413871425806.png', 'Android', 'Bayu Arif Budiman - Resume.pdf', 'Data diri', 'Final Project', 'Heart-Disease-Classification', 'NLP', 'sign_mnist_test', 'sign_mnist_train', 'Verbal-Reasoning-Test1-Solutions.pdf']\n"
     ]
    }
   ],
   "source": [
    "import nltk\n",
    "import numpy as np # linear algebra\n",
    "import pandas as pd # data processing, CSV file I/O (e.g. pd.read_csv)\n",
    "\n",
    "import os\n",
    "print(os.listdir(\"..\"))"
   ]
  },
  {
   "cell_type": "code",
   "execution_count": 119,
   "metadata": {},
   "outputs": [
    {
     "data": {
      "text/html": [
       "<div>\n",
       "<style scoped>\n",
       "    .dataframe tbody tr th:only-of-type {\n",
       "        vertical-align: middle;\n",
       "    }\n",
       "\n",
       "    .dataframe tbody tr th {\n",
       "        vertical-align: top;\n",
       "    }\n",
       "\n",
       "    .dataframe thead th {\n",
       "        text-align: right;\n",
       "    }\n",
       "</style>\n",
       "<table border=\"1\" class=\"dataframe\">\n",
       "  <thead>\n",
       "    <tr style=\"text-align: right;\">\n",
       "      <th></th>\n",
       "      <th>Review</th>\n",
       "      <th>Value</th>\n",
       "    </tr>\n",
       "  </thead>\n",
       "  <tbody>\n",
       "    <tr>\n",
       "      <th>0</th>\n",
       "      <td>So there is no way for me to plug it in here i...</td>\n",
       "      <td>0</td>\n",
       "    </tr>\n",
       "    <tr>\n",
       "      <th>1</th>\n",
       "      <td>Good case, Excellent value.</td>\n",
       "      <td>1</td>\n",
       "    </tr>\n",
       "    <tr>\n",
       "      <th>2</th>\n",
       "      <td>Great for the jawbone.</td>\n",
       "      <td>1</td>\n",
       "    </tr>\n",
       "    <tr>\n",
       "      <th>3</th>\n",
       "      <td>Tied to charger for conversations lasting more...</td>\n",
       "      <td>0</td>\n",
       "    </tr>\n",
       "    <tr>\n",
       "      <th>4</th>\n",
       "      <td>The mic is great.</td>\n",
       "      <td>1</td>\n",
       "    </tr>\n",
       "    <tr>\n",
       "      <th>...</th>\n",
       "      <td>...</td>\n",
       "      <td>...</td>\n",
       "    </tr>\n",
       "    <tr>\n",
       "      <th>995</th>\n",
       "      <td>The screen does get smudged easily because it ...</td>\n",
       "      <td>0</td>\n",
       "    </tr>\n",
       "    <tr>\n",
       "      <th>996</th>\n",
       "      <td>What a piece of junk.. I lose more calls on th...</td>\n",
       "      <td>0</td>\n",
       "    </tr>\n",
       "    <tr>\n",
       "      <th>997</th>\n",
       "      <td>Item Does Not Match Picture.</td>\n",
       "      <td>0</td>\n",
       "    </tr>\n",
       "    <tr>\n",
       "      <th>998</th>\n",
       "      <td>The only thing that disappoint me is the infra...</td>\n",
       "      <td>0</td>\n",
       "    </tr>\n",
       "    <tr>\n",
       "      <th>999</th>\n",
       "      <td>You can not answer calls with the unit, never ...</td>\n",
       "      <td>0</td>\n",
       "    </tr>\n",
       "  </tbody>\n",
       "</table>\n",
       "<p>1000 rows × 2 columns</p>\n",
       "</div>"
      ],
      "text/plain": [
       "                                                Review  Value\n",
       "0    So there is no way for me to plug it in here i...      0\n",
       "1                          Good case, Excellent value.      1\n",
       "2                               Great for the jawbone.      1\n",
       "3    Tied to charger for conversations lasting more...      0\n",
       "4                                    The mic is great.      1\n",
       "..                                                 ...    ...\n",
       "995  The screen does get smudged easily because it ...      0\n",
       "996  What a piece of junk.. I lose more calls on th...      0\n",
       "997                       Item Does Not Match Picture.      0\n",
       "998  The only thing that disappoint me is the infra...      0\n",
       "999  You can not answer calls with the unit, never ...      0\n",
       "\n",
       "[1000 rows x 2 columns]"
      ]
     },
     "execution_count": 119,
     "metadata": {},
     "output_type": "execute_result"
    }
   ],
   "source": [
    "#data1 = open('amazon_cells_labelled.txt')\n",
    "#data1 = data1.read()\n",
    "#data1\n",
    "df_imdb = pd.read_csv(\"amazon_cells_labelled.txt\", sep=\"\\t\",header=None,names=['Review','Value'])\n",
    "df_imdb"
   ]
  },
  {
   "cell_type": "code",
   "execution_count": 134,
   "metadata": {},
   "outputs": [
    {
     "name": "stdout",
     "output_type": "stream",
     "text": [
      "500\n"
     ]
    },
    {
     "data": {
      "text/html": [
       "<div>\n",
       "<style scoped>\n",
       "    .dataframe tbody tr th:only-of-type {\n",
       "        vertical-align: middle;\n",
       "    }\n",
       "\n",
       "    .dataframe tbody tr th {\n",
       "        vertical-align: top;\n",
       "    }\n",
       "\n",
       "    .dataframe thead th {\n",
       "        text-align: right;\n",
       "    }\n",
       "</style>\n",
       "<table border=\"1\" class=\"dataframe\">\n",
       "  <thead>\n",
       "    <tr style=\"text-align: right;\">\n",
       "      <th></th>\n",
       "      <th>Review</th>\n",
       "      <th>Value</th>\n",
       "    </tr>\n",
       "  </thead>\n",
       "  <tbody>\n",
       "    <tr>\n",
       "      <th>0</th>\n",
       "      <td>so there is no way for me to plug it in here i...</td>\n",
       "      <td>0</td>\n",
       "    </tr>\n",
       "    <tr>\n",
       "      <th>1</th>\n",
       "      <td>good case excellent value</td>\n",
       "      <td>1</td>\n",
       "    </tr>\n",
       "    <tr>\n",
       "      <th>2</th>\n",
       "      <td>great for the jawbone</td>\n",
       "      <td>1</td>\n",
       "    </tr>\n",
       "    <tr>\n",
       "      <th>3</th>\n",
       "      <td>tied to charger for conversations lasting more...</td>\n",
       "      <td>0</td>\n",
       "    </tr>\n",
       "    <tr>\n",
       "      <th>4</th>\n",
       "      <td>the mic is great</td>\n",
       "      <td>1</td>\n",
       "    </tr>\n",
       "    <tr>\n",
       "      <th>...</th>\n",
       "      <td>...</td>\n",
       "      <td>...</td>\n",
       "    </tr>\n",
       "    <tr>\n",
       "      <th>995</th>\n",
       "      <td>the screen does get smudged easily because it ...</td>\n",
       "      <td>0</td>\n",
       "    </tr>\n",
       "    <tr>\n",
       "      <th>996</th>\n",
       "      <td>what a piece of junk i lose more calls on this...</td>\n",
       "      <td>0</td>\n",
       "    </tr>\n",
       "    <tr>\n",
       "      <th>997</th>\n",
       "      <td>item does not match picture</td>\n",
       "      <td>0</td>\n",
       "    </tr>\n",
       "    <tr>\n",
       "      <th>998</th>\n",
       "      <td>the only thing that disappoint me is the infra...</td>\n",
       "      <td>0</td>\n",
       "    </tr>\n",
       "    <tr>\n",
       "      <th>999</th>\n",
       "      <td>you can not answer calls with the unit never w...</td>\n",
       "      <td>0</td>\n",
       "    </tr>\n",
       "  </tbody>\n",
       "</table>\n",
       "<p>1000 rows × 2 columns</p>\n",
       "</div>"
      ],
      "text/plain": [
       "                                                Review  Value\n",
       "0    so there is no way for me to plug it in here i...      0\n",
       "1                            good case excellent value      1\n",
       "2                                great for the jawbone      1\n",
       "3    tied to charger for conversations lasting more...      0\n",
       "4                                     the mic is great      1\n",
       "..                                                 ...    ...\n",
       "995  the screen does get smudged easily because it ...      0\n",
       "996  what a piece of junk i lose more calls on this...      0\n",
       "997                        item does not match picture      0\n",
       "998  the only thing that disappoint me is the infra...      0\n",
       "999  you can not answer calls with the unit never w...      0\n",
       "\n",
       "[1000 rows x 2 columns]"
      ]
     },
     "execution_count": 134,
     "metadata": {},
     "output_type": "execute_result"
    }
   ],
   "source": [
    "print(sum(df_imdb['Value'])) #equally mixed data\n",
    "\n",
    "\n",
    "#seluruh kalimat\n",
    "regex = r'[^a-z\\s]'\n",
    "\n",
    "# Ubah seluruh huruf dalam data artikel ke dalam lower case\n",
    "df_imdb['Review'] = df_imdb['Review'].str.lower()\n",
    "\n",
    "# Hapus seluruh simbol yang ada dan ganti dengan string kosong ('')\n",
    "df_imdb['Review'] = df_imdb['Review'].str.replace(regex,'')\n",
    "\n",
    "df_imdb"
   ]
  },
  {
   "cell_type": "code",
   "execution_count": 141,
   "metadata": {},
   "outputs": [],
   "source": [
    "import tensorflow as tf\n",
    "import numpy as np\n",
    "from sklearn.feature_extraction.text import CountVectorizer\n",
    "from tensorflow.keras.preprocessing.text import Tokenizer\n",
    "from tensorflow.keras.preprocessing.sequence import pad_sequences\n",
    "from tensorflow.keras.models import Sequential\n",
    "from tensorflow.keras.layers import Dense, Embedding, LSTM, SpatialDropout1D\n",
    "from tensorflow.keras.models import model_from_json, load_model\n",
    "\n",
    "# Lakukan import fungsi train_test_split dari library sklearn.model_selection\n",
    "from sklearn.model_selection import train_test_split\n",
    "\n",
    "import matplotlib.pyplot as plt\n"
   ]
  },
  {
   "cell_type": "code",
   "execution_count": 166,
   "metadata": {},
   "outputs": [
    {
     "data": {
      "text/plain": [
       "(1000, 26)"
      ]
     },
     "execution_count": 166,
     "metadata": {},
     "output_type": "execute_result"
    }
   ],
   "source": [
    "# Tentukan jumlah max_features (jumlah kata yang ingin digunakan pada setiap artikel)\n",
    "max_features = 500\n",
    "\n",
    "# Buat object Tokenizer() dari keras, \n",
    "# gunakan parameter num_words untuk membatasi kata yang ingin ditokenisasi pada tiap artikel\n",
    "# dan parameter split untuk menentukan pembatas tiap kata, (' ') = spasi\n",
    "tokenizer = Tokenizer(num_words=max_features, split=' ')\n",
    "\n",
    "# Lakukan tokenisasi pada setiap artikel dengan tokenizer yang telah dibuat\n",
    "tokenizer.fit_on_texts(df_imdb['Review'].values)\n",
    "\n",
    "# Ubah token menjadi sequence/angka-angka\n",
    "X = tokenizer.texts_to_sequences(df_imdb['Review'].values)\n",
    "\n",
    "# Lakukan padding, jika jumlah kata dalam artikel tidak sebanyak max_features maka diisi dengan angka (0)\n",
    "X = pad_sequences(X)\n",
    "X.shape"
   ]
  },
  {
   "cell_type": "code",
   "execution_count": 209,
   "metadata": {},
   "outputs": [
    {
     "name": "stdout",
     "output_type": "stream",
     "text": [
      "Model: \"sequential_6\"\n",
      "_________________________________________________________________\n",
      "Layer (type)                 Output Shape              Param #   \n",
      "=================================================================\n",
      "embedding_6 (Embedding)      (None, 26, 128)           64000     \n",
      "_________________________________________________________________\n",
      "spatial_dropout1d_8 (Spatial (None, 26, 128)           0         \n",
      "_________________________________________________________________\n",
      "lstm_17 (LSTM)               (None, 26, 196)           254800    \n",
      "_________________________________________________________________\n",
      "spatial_dropout1d_9 (Spatial (None, 26, 196)           0         \n",
      "_________________________________________________________________\n",
      "lstm_18 (LSTM)               (None, 26, 196)           308112    \n",
      "_________________________________________________________________\n",
      "lstm_19 (LSTM)               (None, 26, 196)           308112    \n",
      "_________________________________________________________________\n",
      "lstm_20 (LSTM)               (None, 196)               308112    \n",
      "_________________________________________________________________\n",
      "dense_5 (Dense)              (None, 2)                 394       \n",
      "=================================================================\n",
      "Total params: 1,243,530\n",
      "Trainable params: 1,243,530\n",
      "Non-trainable params: 0\n",
      "_________________________________________________________________\n",
      "None\n"
     ]
    }
   ],
   "source": [
    "embed_dim = 128\n",
    "lstm_out = 196\n",
    "\n",
    "# Inisiasi model dengan sequential\n",
    "model = Sequential()\n",
    "# menambahkan model dengan layer Embedding dengan input_dim sebesar max_features, output_dim sebesar embed_dim, dan input_length sebesar panjang X\n",
    "model.add(Embedding(max_features, embed_dim,input_length = X.shape[1]))\n",
    "# menambahkan model dengan layer SpatialDropout1D sebesar 0.4\n",
    "model.add(SpatialDropout1D(0.4))\n",
    "# menambahkan model dengan LSTM sebanyak lstm_out, dengan dropout dan recurrent_dropout sebesar 0.5, dan parameter return_sequences True\n",
    "model.add(LSTM(lstm_out, dropout=0.5, recurrent_dropout=0.5, return_sequences=True))\n",
    "\n",
    "model.add(SpatialDropout1D(0.4))\n",
    "\n",
    "model.add(LSTM(lstm_out, dropout=0.5, recurrent_dropout=0.5, return_sequences=True))\n",
    "\n",
    "model.add(LSTM(lstm_out, dropout=0.5, recurrent_dropout=0.5, return_sequences=True))\n",
    "\n",
    "# menambahkan model dengan LSTM sebanyak lstm_out, dengan dropout dan recurrent_dropout sebesar 0.5, tanpa parameter return_sequences\n",
    "model.add(LSTM(lstm_out, dropout=0.5, recurrent_dropout=0.5))\n",
    "# menambahkan model dengan dense sebanyak jumlah label dan aktivasi menggunakan softmax\n",
    "model.add(Dense(2,activation='softmax'))\n",
    "# model akan di compile menggunakan parameter loss 'categorical_crossentropy', optimizer 'adam' dan metrics accuracy\n",
    "model.compile(loss = 'categorical_crossentropy', optimizer='adam', metrics = ['accuracy'])\n",
    "print(model.summary())"
   ]
  },
  {
   "cell_type": "code",
   "execution_count": 210,
   "metadata": {},
   "outputs": [
    {
     "name": "stdout",
     "output_type": "stream",
     "text": [
      "Failed to import pydot. You must install pydot and graphviz for `pydotprint` to work.\n"
     ]
    }
   ],
   "source": [
    "# Menampilkan layer yang telah dibuat\n",
    "from tensorflow.keras.utils import plot_model\n",
    "plot_model(model)"
   ]
  },
  {
   "cell_type": "code",
   "execution_count": 211,
   "metadata": {},
   "outputs": [
    {
     "name": "stdout",
     "output_type": "stream",
     "text": [
      "(670, 26) (670, 2)\n",
      "(330, 26) (330, 2)\n"
     ]
    }
   ],
   "source": [
    "# Ubah data label menjadi variable dummy dengan menggunakan library pandas (pd.get_dummies())\n",
    "Y = pd.get_dummies(df_imdb['Value']).values\n",
    "# Lakukan split data menggunakan function train_test_split() pada sklearn \n",
    "X_train, X_val, Y_train, Y_val = train_test_split(X,Y, test_size = 0.33, random_state = 42)\n",
    "print(X_train.shape,Y_train.shape)\n",
    "print(X_val.shape,Y_val.shape)"
   ]
  },
  {
   "cell_type": "code",
   "execution_count": 212,
   "metadata": {},
   "outputs": [
    {
     "name": "stdout",
     "output_type": "stream",
     "text": [
      "Train on 670 samples, validate on 330 samples\n",
      "Epoch 1/30\n",
      "670/670 [==============================] - 25s 38ms/sample - loss: 0.6965 - accuracy: 0.5104 - val_loss: 0.7008 - val_accuracy: 0.4879\n",
      "Epoch 2/30\n",
      "670/670 [==============================] - 14s 22ms/sample - loss: 0.7115 - accuracy: 0.4657 - val_loss: 0.6933 - val_accuracy: 0.4879\n",
      "Epoch 3/30\n",
      "670/670 [==============================] - 15s 22ms/sample - loss: 0.7016 - accuracy: 0.4627 - val_loss: 0.6940 - val_accuracy: 0.5121\n",
      "Epoch 4/30\n",
      "670/670 [==============================] - 15s 22ms/sample - loss: 0.7037 - accuracy: 0.4552 - val_loss: 0.6941 - val_accuracy: 0.4879\n",
      "Epoch 5/30\n",
      "670/670 [==============================] - 23s 35ms/sample - loss: 0.6953 - accuracy: 0.5000 - val_loss: 0.6918 - val_accuracy: 0.5212\n",
      "Epoch 6/30\n",
      "670/670 [==============================] - 23s 35ms/sample - loss: 0.6905 - accuracy: 0.5209 - val_loss: 0.6921 - val_accuracy: 0.4879\n",
      "Epoch 7/30\n",
      "670/670 [==============================] - 24s 35ms/sample - loss: 0.6915 - accuracy: 0.5627 - val_loss: 0.6935 - val_accuracy: 0.4879\n",
      "Epoch 8/30\n",
      "670/670 [==============================] - 24s 35ms/sample - loss: 0.6931 - accuracy: 0.5537 - val_loss: 0.6812 - val_accuracy: 0.5667\n",
      "Epoch 9/30\n",
      "670/670 [==============================] - 24s 36ms/sample - loss: 0.6725 - accuracy: 0.5940 - val_loss: 0.6661 - val_accuracy: 0.6000\n",
      "Epoch 10/30\n",
      "670/670 [==============================] - 24s 35ms/sample - loss: 0.6373 - accuracy: 0.6463 - val_loss: 0.6352 - val_accuracy: 0.6273\n",
      "Epoch 11/30\n",
      "670/670 [==============================] - 24s 35ms/sample - loss: 0.5465 - accuracy: 0.7507 - val_loss: 0.6214 - val_accuracy: 0.7303\n",
      "Epoch 12/30\n",
      "670/670 [==============================] - 24s 35ms/sample - loss: 0.4780 - accuracy: 0.7716 - val_loss: 0.6136 - val_accuracy: 0.7061\n",
      "Epoch 13/30\n",
      "670/670 [==============================] - 24s 36ms/sample - loss: 0.4080 - accuracy: 0.8239 - val_loss: 0.6019 - val_accuracy: 0.7303\n",
      "Epoch 14/30\n",
      "670/670 [==============================] - 24s 36ms/sample - loss: 0.3503 - accuracy: 0.8403 - val_loss: 0.7096 - val_accuracy: 0.7485\n",
      "Epoch 15/30\n",
      "670/670 [==============================] - 24s 35ms/sample - loss: 0.3321 - accuracy: 0.8582 - val_loss: 0.5967 - val_accuracy: 0.7636\n",
      "Epoch 16/30\n",
      "670/670 [==============================] - 24s 36ms/sample - loss: 0.2840 - accuracy: 0.8746 - val_loss: 0.6452 - val_accuracy: 0.7576\n",
      "Epoch 17/30\n",
      "670/670 [==============================] - 24s 35ms/sample - loss: 0.2509 - accuracy: 0.8925 - val_loss: 0.6874 - val_accuracy: 0.7424\n",
      "Epoch 18/30\n",
      "670/670 [==============================] - 24s 35ms/sample - loss: 0.2296 - accuracy: 0.9015 - val_loss: 0.7523 - val_accuracy: 0.7576\n",
      "Epoch 19/30\n",
      "670/670 [==============================] - 24s 36ms/sample - loss: 0.2072 - accuracy: 0.9164 - val_loss: 0.8498 - val_accuracy: 0.7424\n",
      "Epoch 20/30\n",
      "670/670 [==============================] - 24s 35ms/sample - loss: 0.1691 - accuracy: 0.9269 - val_loss: 0.9091 - val_accuracy: 0.7455\n",
      "Epoch 21/30\n",
      "670/670 [==============================] - 24s 35ms/sample - loss: 0.1866 - accuracy: 0.9209 - val_loss: 0.8292 - val_accuracy: 0.7727\n",
      "Epoch 22/30\n",
      "670/670 [==============================] - 24s 35ms/sample - loss: 0.1548 - accuracy: 0.9284 - val_loss: 0.8846 - val_accuracy: 0.7545\n",
      "Epoch 23/30\n",
      "670/670 [==============================] - 24s 35ms/sample - loss: 0.1435 - accuracy: 0.9313 - val_loss: 0.9756 - val_accuracy: 0.7697\n",
      "Epoch 24/30\n",
      "670/670 [==============================] - 24s 35ms/sample - loss: 0.1453 - accuracy: 0.9448 - val_loss: 0.8946 - val_accuracy: 0.7758\n",
      "Epoch 25/30\n",
      "670/670 [==============================] - 24s 35ms/sample - loss: 0.1342 - accuracy: 0.9373 - val_loss: 0.8364 - val_accuracy: 0.7909\n",
      "Epoch 26/30\n",
      "670/670 [==============================] - 24s 35ms/sample - loss: 0.1204 - accuracy: 0.9403 - val_loss: 0.9848 - val_accuracy: 0.7606\n",
      "Epoch 27/30\n",
      "670/670 [==============================] - 23s 35ms/sample - loss: 0.1074 - accuracy: 0.9612 - val_loss: 0.9361 - val_accuracy: 0.7758\n",
      "Epoch 28/30\n",
      "670/670 [==============================] - 24s 35ms/sample - loss: 0.1193 - accuracy: 0.9522 - val_loss: 0.9070 - val_accuracy: 0.7848\n",
      "Epoch 29/30\n",
      "670/670 [==============================] - 24s 35ms/sample - loss: 0.1244 - accuracy: 0.9522 - val_loss: 0.9115 - val_accuracy: 0.7848\n",
      "Epoch 30/30\n",
      "670/670 [==============================] - 24s 35ms/sample - loss: 0.1081 - accuracy: 0.9657 - val_loss: 0.8688 - val_accuracy: 0.7758\n"
     ]
    }
   ],
   "source": [
    "batch_size = 32\n",
    "history = model.fit(X_train, Y_train,\n",
    "                    validation_data=(X_val, Y_val),\n",
    "                    epochs = 30, batch_size=batch_size, verbose = 1)"
   ]
  },
  {
   "cell_type": "code",
   "execution_count": 213,
   "metadata": {},
   "outputs": [
    {
     "data": {
      "image/png": "[encoded data removed]",
      "text/plain": [
       "<Figure size 432x288 with 1 Axes>"
      ]
     },
     "metadata": {
      "needs_background": "light"
     },
     "output_type": "display_data"
    }
   ],
   "source": [
    "# Menampilkan grafik accuracy dan validation accuracy\n",
    "plt.plot(history.history['accuracy'])\n",
    "plt.plot(history.history['val_accuracy'])\n",
    "\n",
    "# Tampilkan grafik yang telah diplot\n",
    "plt.show()"
   ]
  },
  {
   "cell_type": "code",
   "execution_count": 174,
   "metadata": {},
   "outputs": [
    {
     "name": "stdout",
     "output_type": "stream",
     "text": [
      "330/1 - 1s - loss: 1.0117 - accuracy: 0.7848\n",
      "score: 1.00\n",
      "acc: 0.78\n"
     ]
    }
   ],
   "source": [
    "# Menampilkan hasil evaluasi akhir\n",
    "score,accuracy = model.evaluate(X_val, Y_val, verbose = 2, batch_size = batch_size)\n",
    "print(\"score: %.2f\" % (score))\n",
    "print(\"acc: %.2f\" % (accuracy))"
   ]
  },
  {
   "cell_type": "code",
   "execution_count": null,
   "metadata": {},
   "outputs": [],
   "source": []
  },
  {
   "cell_type": "code",
   "execution_count": 201,
   "metadata": {},
   "outputs": [
    {
     "name": "stdout",
     "output_type": "stream",
     "text": [
      "['i hate this']\n"
     ]
    }
   ],
   "source": [
    "# Ubah hasil inputan kalimat ke dalam bentuk lower case\n",
    "uhuy = 'i hate this'\n",
    "kalimat = uhuy.lower()\n",
    "\n",
    "# Hapus seluruh simbol dan ganti dengan string kosong (''), gunakan function re.sub\n",
    "kalimat = re.sub(regex, '', kalimat)\n",
    "\n",
    "# Ubah hasil inputan kedalam list/array\n",
    "kalimat = [kalimat]\n",
    "\n",
    "print(kalimat)"
   ]
  },
  {
   "cell_type": "code",
   "execution_count": 202,
   "metadata": {},
   "outputs": [],
   "source": [
    "# Ubah token menjadi sequence/angka2\n",
    "test_kalimat = tokenizer.texts_to_sequences(kalimat)\n",
    "\n",
    "# Lakukan padding, jika jumlah kata dalam artikel tidak sebanyak max_features maka diisi dengan angka (0)\n",
    "test_kalimat = pad_sequences(test_kalimat, maxlen=X.shape[1])"
   ]
  },
  {
   "cell_type": "code",
   "execution_count": 203,
   "metadata": {},
   "outputs": [
    {
     "name": "stdout",
     "output_type": "stream",
     "text": [
      "0\n"
     ]
    }
   ],
   "source": [
    "labels = ['0','1']\n",
    "# Ubah kalimat yang ingin diuji kedalam bentuk vector\n",
    "vector = np.array([test_kalimat.flatten()])\n",
    "\n",
    "# Prediksi label dari kalimat tersebut menggunakan function model.predict_classes()\n",
    "y = model.predict_classes(vector)\n",
    "\n",
    "print(labels[y[0]])"
   ]
  },
  {
   "cell_type": "code",
   "execution_count": null,
   "metadata": {},
   "outputs": [],
   "source": []
  }
 ],
 "metadata": {
  "kernelspec": {
   "display_name": "Python 3",
   "language": "python",
   "name": "python3"
  },
  "language_info": {
   "codemirror_mode": {
    "name": "ipython",
    "version": 3
   },
   "file_extension": ".py",
   "mimetype": "text/x-python",
   "name": "python",
   "nbconvert_exporter": "python",
   "pygments_lexer": "ipython3",
   "version": "3.7.4"
  }
 },
 "nbformat": 4,
 "nbformat_minor": 2
}
